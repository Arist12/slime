{
 "cells": [
  {
   "cell_type": "markdown",
   "id": "6d360289",
   "metadata": {},
   "source": [
    "## Model Utils"
   ]
  },
  {
   "cell_type": "code",
   "execution_count": null,
   "id": "8c80998e",
   "metadata": {},
   "outputs": [],
   "source": [
    "import os\n",
    "\n",
    "from dotenv import load_dotenv\n",
    "from openai import AzureOpenAI\n",
    "\n",
    "load_dotenv()\n",
    "\n",
    "\n",
    "client = AzureOpenAI(\n",
    "    api_version=\"2024-12-01-preview\",\n",
    "    azure_endpoint=\"https://deepprompteastus2.openai.azure.com/\",\n",
    "    api_key=os.getenv(\"OPENAI_API_KEY\", None),\n",
    ")\n",
    "\n",
    "gpt_41_deployment = \"deepprompt-gpt-4.1-2025-04-14-global\"\n",
    "gpt_5_deployment = \"deepprompt-gpt-5-2025-08-07-global\"\n",
    "gpt_5_mini_deployment = \"deepprompt-gpt-5-mini-2025-08-07-global\"\n",
    "gpt_5_nano_deployment = \"deepprompt-gpt-5-nano-2025-08-07-global\""
   ]
  },
  {
   "cell_type": "code",
   "execution_count": null,
   "id": "e967180b",
   "metadata": {},
   "outputs": [
    {
     "name": "stdout",
     "output_type": "stream",
     "text": [
      "<SEARCH>\n",
      "      & $InstallerPath @LocalInstallerArguments\n",
      "      if ($LASTEXITCODE -Ne \"0\") {\n",
      "        $errMsg = \"$ToolName installation failed\"\n",
      "</SEARCH>\n",
      "<REPLACE>\n",
      "      & $InstallerPath @LocalInstallerArguments\n",
      "      if ($LASTEXITCODE -ne 0) {\n",
      "        $errMsg = \"$ToolName installation failed\"\n",
      "</REPLACE>\n"
     ]
    }
   ],
   "source": [
    "response = client.chat.completions.create(\n",
    "    model=gpt_5_deployment,\n",
    "    messages=[{\"role\": \"system\", \"content\": system_prompt}, {\"role\": \"user\", \"content\": user_prompt}],\n",
    "    max_completion_tokens=8192,\n",
    ")\n",
    "\n",
    "print(response.choices[0].message.content)"
   ]
  },
  {
   "cell_type": "markdown",
   "id": "e3b108f9",
   "metadata": {},
   "source": [
    "## Eval Utils"
   ]
  },
  {
   "cell_type": "code",
   "execution_count": null,
   "id": "9d0fca82",
   "metadata": {},
   "outputs": [],
   "source": [
    "import json\n",
    "\n",
    "with open(\"./find_replace_benchmark.jsonl\") as f:\n",
    "    find_replace_bench = [json.loads(line) for line in f]\n",
    "\n",
    "with open(\"./fully_rewrite_benchmark.jsonl\") as f:\n",
    "    fully_rewrite_bench = [json.loads(line) for line in f]\n",
    "\n",
    "find_replace_sample = find_replace_bench[0]  # 'system_prompt', 'user_prompt', 'ground_truth', 'metadata'\n",
    "\n",
    "system_prompt = find_replace_sample[\"system_prompt\"]\n",
    "user_prompt = find_replace_sample[\"user_prompt\"]\n",
    "ground_truth = find_replace_sample[\"ground_truth\"]\n"
   ]
  },
  {
   "cell_type": "code",
   "execution_count": null,
   "id": "f9476cc7",
   "metadata": {},
   "outputs": [
    {
     "name": "stdout",
     "output_type": "stream",
     "text": [
      "<SEARCH>\n",
      "      & $InstallerPath @LocalInstallerArguments\n",
      "      if ($LASTEXITCODE -Ne \"0\") {\n",
      "        $errMsg = \"$ToolName installation failed\"\n",
      "</SEARCH>\n",
      "<REPLACE>\n",
      "      & $InstallerPath @LocalInstallerArguments\n",
      "      if ($LASTEXITCODE -ne 0) {\n",
      "        $errMsg = \"$ToolName installation failed\"\n",
      "</REPLACE>\n"
     ]
    }
   ],
   "source": [
    "response = client.chat.completions.create(\n",
    "    model=gpt_5_deployment,\n",
    "    messages=[{\"role\": \"system\", \"content\": system_prompt}, {\"role\": \"user\", \"content\": user_prompt}],\n",
    "    max_completion_tokens=8192,\n",
    ")\n",
    "\n",
    "print(response.choices[0].message.content)"
   ]
  },
  {
   "cell_type": "code",
   "execution_count": null,
   "id": "d97a7685",
   "metadata": {},
   "outputs": [
    {
     "name": "stdout",
     "output_type": "stream",
     "text": [
      "False\n"
     ]
    }
   ],
   "source": [
    "from utils import apply_diff\n",
    "\n",
    "original_code = find_replace_bench[0][\"original_code\"]\n",
    "modifications = \"\"\"\n",
    "<SEARCH>\n",
    "      & $InstallerPath @LocalInstallerArguments\n",
    "      if ($LASTEXITCODE -Ne \"0\") {\n",
    "        $errMsg = \"$ToolName installation failed\"\n",
    "</SEARCH>\n",
    "<REPLACE>\n",
    "      & $InstallerPath @LocalInstallerArguments\n",
    "      if ($LASTEXITCODE -ne 0) {\n",
    "        $errMsg = \"$ToolName installation failed\"\n",
    "</REPLACE>\n",
    "\"\"\"\n",
    "\n",
    "_, modified_code = apply_diff(original_code, modifications)\n",
    "\n",
    "print(modified_code == ground_truth)"
   ]
  },
  {
   "cell_type": "markdown",
   "id": "b6ca92e2",
   "metadata": {},
   "source": [
    "### Share"
   ]
  },
  {
   "cell_type": "markdown",
   "id": "225bd19f",
   "metadata": {},
   "source": [
    "## Evaluation"
   ]
  },
  {
   "cell_type": "markdown",
   "id": "3ac96f99",
   "metadata": {},
   "source": [
    "### GPT"
   ]
  },
  {
   "cell_type": "markdown",
   "id": "b0af31b6",
   "metadata": {},
   "source": [
    "### Claude"
   ]
  },
  {
   "cell_type": "code",
   "execution_count": 4,
   "id": "2b8402d2",
   "metadata": {},
   "outputs": [
    {
     "ename": "BadRequestError",
     "evalue": "Error code: 400 - {'type': 'error', 'error': {'type': 'invalid_request_error', 'message': 'Your credit balance is too low to access the Anthropic API. Please go to Plans & Billing to upgrade or purchase credits.'}, 'request_id': 'req_011CSKzocQEPWHiauhC7GoV5'}",
     "output_type": "error",
     "traceback": [
      "\u001b[0;31m---------------------------------------------------------------------------\u001b[0m",
      "\u001b[0;31mBadRequestError\u001b[0m                           Traceback (most recent call last)",
      "Cell \u001b[0;32mIn[4], line 12\u001b[0m\n\u001b[1;32m      8\u001b[0m anthropic_api_key \u001b[38;5;241m=\u001b[39m os\u001b[38;5;241m.\u001b[39mgetenv(\u001b[38;5;124m\"\u001b[39m\u001b[38;5;124mANTHROPIC_API_KEY\u001b[39m\u001b[38;5;124m\"\u001b[39m, \u001b[38;5;28;01mNone\u001b[39;00m)\n\u001b[1;32m     10\u001b[0m claude_client \u001b[38;5;241m=\u001b[39m anthropic\u001b[38;5;241m.\u001b[39mAnthropic(api_key\u001b[38;5;241m=\u001b[39manthropic_api_key)\n\u001b[0;32m---> 12\u001b[0m response \u001b[38;5;241m=\u001b[39m \u001b[43mclaude_client\u001b[49m\u001b[38;5;241;43m.\u001b[39;49m\u001b[43mmessages\u001b[49m\u001b[38;5;241;43m.\u001b[39;49m\u001b[43mcreate\u001b[49m\u001b[43m(\u001b[49m\n\u001b[1;32m     13\u001b[0m \u001b[43m    \u001b[49m\u001b[43mmodel\u001b[49m\u001b[38;5;241;43m=\u001b[39;49m\u001b[38;5;124;43m\"\u001b[39;49m\u001b[38;5;124;43mclaude-sonnet-4-0\u001b[39;49m\u001b[38;5;124;43m\"\u001b[39;49m\u001b[43m,\u001b[49m\n\u001b[1;32m     14\u001b[0m \u001b[43m    \u001b[49m\u001b[43mmax_tokens\u001b[49m\u001b[38;5;241;43m=\u001b[39;49m\u001b[38;5;241;43m8192\u001b[39;49m\u001b[43m,\u001b[49m\n\u001b[1;32m     15\u001b[0m \u001b[43m    \u001b[49m\u001b[43mmessages\u001b[49m\u001b[38;5;241;43m=\u001b[39;49m\u001b[43m[\u001b[49m\u001b[43m{\u001b[49m\u001b[38;5;124;43m\"\u001b[39;49m\u001b[38;5;124;43mrole\u001b[39;49m\u001b[38;5;124;43m\"\u001b[39;49m\u001b[43m:\u001b[49m\u001b[43m \u001b[49m\u001b[38;5;124;43m\"\u001b[39;49m\u001b[38;5;124;43muser\u001b[39;49m\u001b[38;5;124;43m\"\u001b[39;49m\u001b[43m,\u001b[49m\u001b[43m \u001b[49m\u001b[38;5;124;43m\"\u001b[39;49m\u001b[38;5;124;43mcontent\u001b[39;49m\u001b[38;5;124;43m\"\u001b[39;49m\u001b[43m:\u001b[49m\u001b[43m \u001b[49m\u001b[38;5;124;43m\"\u001b[39;49m\u001b[38;5;124;43mwho are you?\u001b[39;49m\u001b[38;5;124;43m\"\u001b[39;49m\u001b[43m}\u001b[49m\u001b[43m]\u001b[49m\u001b[43m,\u001b[49m\n\u001b[1;32m     16\u001b[0m \u001b[43m)\u001b[49m\n\u001b[1;32m     18\u001b[0m \u001b[38;5;28mprint\u001b[39m(response\u001b[38;5;241m.\u001b[39mcontent)\n",
      "File \u001b[0;32m/mnt/local/zijian/Fast_Accurate_Code_Editing/.venv/lib/python3.10/site-packages/anthropic/_utils/_utils.py:283\u001b[0m, in \u001b[0;36mrequired_args.<locals>.inner.<locals>.wrapper\u001b[0;34m(*args, **kwargs)\u001b[0m\n\u001b[1;32m    281\u001b[0m             msg \u001b[38;5;241m=\u001b[39m \u001b[38;5;124mf\u001b[39m\u001b[38;5;124m\"\u001b[39m\u001b[38;5;124mMissing required argument: \u001b[39m\u001b[38;5;132;01m{\u001b[39;00mquote(missing[\u001b[38;5;241m0\u001b[39m])\u001b[38;5;132;01m}\u001b[39;00m\u001b[38;5;124m\"\u001b[39m\n\u001b[1;32m    282\u001b[0m     \u001b[38;5;28;01mraise\u001b[39;00m \u001b[38;5;167;01mTypeError\u001b[39;00m(msg)\n\u001b[0;32m--> 283\u001b[0m \u001b[38;5;28;01mreturn\u001b[39;00m \u001b[43mfunc\u001b[49m\u001b[43m(\u001b[49m\u001b[38;5;241;43m*\u001b[39;49m\u001b[43margs\u001b[49m\u001b[43m,\u001b[49m\u001b[43m \u001b[49m\u001b[38;5;241;43m*\u001b[39;49m\u001b[38;5;241;43m*\u001b[39;49m\u001b[43mkwargs\u001b[49m\u001b[43m)\u001b[49m\n",
      "File \u001b[0;32m/mnt/local/zijian/Fast_Accurate_Code_Editing/.venv/lib/python3.10/site-packages/anthropic/resources/messages/messages.py:999\u001b[0m, in \u001b[0;36mMessages.create\u001b[0;34m(self, max_tokens, messages, model, metadata, service_tier, stop_sequences, stream, system, temperature, thinking, tool_choice, tools, top_k, top_p, extra_headers, extra_query, extra_body, timeout)\u001b[0m\n\u001b[1;32m    992\u001b[0m \u001b[38;5;28;01mif\u001b[39;00m model \u001b[38;5;129;01min\u001b[39;00m DEPRECATED_MODELS:\n\u001b[1;32m    993\u001b[0m     warnings\u001b[38;5;241m.\u001b[39mwarn(\n\u001b[1;32m    994\u001b[0m         \u001b[38;5;124mf\u001b[39m\u001b[38;5;124m\"\u001b[39m\u001b[38;5;124mThe model \u001b[39m\u001b[38;5;124m'\u001b[39m\u001b[38;5;132;01m{\u001b[39;00mmodel\u001b[38;5;132;01m}\u001b[39;00m\u001b[38;5;124m'\u001b[39m\u001b[38;5;124m is deprecated and will reach end-of-life on \u001b[39m\u001b[38;5;132;01m{\u001b[39;00mDEPRECATED_MODELS[model]\u001b[38;5;132;01m}\u001b[39;00m\u001b[38;5;124m.\u001b[39m\u001b[38;5;130;01m\\n\u001b[39;00m\u001b[38;5;124mPlease migrate to a newer model. Visit https://docs.anthropic.com/en/docs/resources/model-deprecations for more information.\u001b[39m\u001b[38;5;124m\"\u001b[39m,\n\u001b[1;32m    995\u001b[0m         \u001b[38;5;167;01mDeprecationWarning\u001b[39;00m,\n\u001b[1;32m    996\u001b[0m         stacklevel\u001b[38;5;241m=\u001b[39m\u001b[38;5;241m3\u001b[39m,\n\u001b[1;32m    997\u001b[0m     )\n\u001b[0;32m--> 999\u001b[0m \u001b[38;5;28;01mreturn\u001b[39;00m \u001b[38;5;28;43mself\u001b[39;49m\u001b[38;5;241;43m.\u001b[39;49m\u001b[43m_post\u001b[49m\u001b[43m(\u001b[49m\n\u001b[1;32m   1000\u001b[0m \u001b[43m    \u001b[49m\u001b[38;5;124;43m\"\u001b[39;49m\u001b[38;5;124;43m/v1/messages\u001b[39;49m\u001b[38;5;124;43m\"\u001b[39;49m\u001b[43m,\u001b[49m\n\u001b[1;32m   1001\u001b[0m \u001b[43m    \u001b[49m\u001b[43mbody\u001b[49m\u001b[38;5;241;43m=\u001b[39;49m\u001b[43mmaybe_transform\u001b[49m\u001b[43m(\u001b[49m\n\u001b[1;32m   1002\u001b[0m \u001b[43m        \u001b[49m\u001b[43m{\u001b[49m\n\u001b[1;32m   1003\u001b[0m \u001b[43m            \u001b[49m\u001b[38;5;124;43m\"\u001b[39;49m\u001b[38;5;124;43mmax_tokens\u001b[39;49m\u001b[38;5;124;43m\"\u001b[39;49m\u001b[43m:\u001b[49m\u001b[43m \u001b[49m\u001b[43mmax_tokens\u001b[49m\u001b[43m,\u001b[49m\n\u001b[1;32m   1004\u001b[0m \u001b[43m            \u001b[49m\u001b[38;5;124;43m\"\u001b[39;49m\u001b[38;5;124;43mmessages\u001b[39;49m\u001b[38;5;124;43m\"\u001b[39;49m\u001b[43m:\u001b[49m\u001b[43m \u001b[49m\u001b[43mmessages\u001b[49m\u001b[43m,\u001b[49m\n\u001b[1;32m   1005\u001b[0m \u001b[43m            \u001b[49m\u001b[38;5;124;43m\"\u001b[39;49m\u001b[38;5;124;43mmodel\u001b[39;49m\u001b[38;5;124;43m\"\u001b[39;49m\u001b[43m:\u001b[49m\u001b[43m \u001b[49m\u001b[43mmodel\u001b[49m\u001b[43m,\u001b[49m\n\u001b[1;32m   1006\u001b[0m \u001b[43m            \u001b[49m\u001b[38;5;124;43m\"\u001b[39;49m\u001b[38;5;124;43mmetadata\u001b[39;49m\u001b[38;5;124;43m\"\u001b[39;49m\u001b[43m:\u001b[49m\u001b[43m \u001b[49m\u001b[43mmetadata\u001b[49m\u001b[43m,\u001b[49m\n\u001b[1;32m   1007\u001b[0m \u001b[43m            \u001b[49m\u001b[38;5;124;43m\"\u001b[39;49m\u001b[38;5;124;43mservice_tier\u001b[39;49m\u001b[38;5;124;43m\"\u001b[39;49m\u001b[43m:\u001b[49m\u001b[43m \u001b[49m\u001b[43mservice_tier\u001b[49m\u001b[43m,\u001b[49m\n\u001b[1;32m   1008\u001b[0m \u001b[43m            \u001b[49m\u001b[38;5;124;43m\"\u001b[39;49m\u001b[38;5;124;43mstop_sequences\u001b[39;49m\u001b[38;5;124;43m\"\u001b[39;49m\u001b[43m:\u001b[49m\u001b[43m \u001b[49m\u001b[43mstop_sequences\u001b[49m\u001b[43m,\u001b[49m\n\u001b[1;32m   1009\u001b[0m \u001b[43m            \u001b[49m\u001b[38;5;124;43m\"\u001b[39;49m\u001b[38;5;124;43mstream\u001b[39;49m\u001b[38;5;124;43m\"\u001b[39;49m\u001b[43m:\u001b[49m\u001b[43m \u001b[49m\u001b[43mstream\u001b[49m\u001b[43m,\u001b[49m\n\u001b[1;32m   1010\u001b[0m \u001b[43m            \u001b[49m\u001b[38;5;124;43m\"\u001b[39;49m\u001b[38;5;124;43msystem\u001b[39;49m\u001b[38;5;124;43m\"\u001b[39;49m\u001b[43m:\u001b[49m\u001b[43m \u001b[49m\u001b[43msystem\u001b[49m\u001b[43m,\u001b[49m\n\u001b[1;32m   1011\u001b[0m \u001b[43m            \u001b[49m\u001b[38;5;124;43m\"\u001b[39;49m\u001b[38;5;124;43mtemperature\u001b[39;49m\u001b[38;5;124;43m\"\u001b[39;49m\u001b[43m:\u001b[49m\u001b[43m \u001b[49m\u001b[43mtemperature\u001b[49m\u001b[43m,\u001b[49m\n\u001b[1;32m   1012\u001b[0m \u001b[43m            \u001b[49m\u001b[38;5;124;43m\"\u001b[39;49m\u001b[38;5;124;43mthinking\u001b[39;49m\u001b[38;5;124;43m\"\u001b[39;49m\u001b[43m:\u001b[49m\u001b[43m \u001b[49m\u001b[43mthinking\u001b[49m\u001b[43m,\u001b[49m\n\u001b[1;32m   1013\u001b[0m \u001b[43m            \u001b[49m\u001b[38;5;124;43m\"\u001b[39;49m\u001b[38;5;124;43mtool_choice\u001b[39;49m\u001b[38;5;124;43m\"\u001b[39;49m\u001b[43m:\u001b[49m\u001b[43m \u001b[49m\u001b[43mtool_choice\u001b[49m\u001b[43m,\u001b[49m\n\u001b[1;32m   1014\u001b[0m \u001b[43m            \u001b[49m\u001b[38;5;124;43m\"\u001b[39;49m\u001b[38;5;124;43mtools\u001b[39;49m\u001b[38;5;124;43m\"\u001b[39;49m\u001b[43m:\u001b[49m\u001b[43m \u001b[49m\u001b[43mtools\u001b[49m\u001b[43m,\u001b[49m\n\u001b[1;32m   1015\u001b[0m \u001b[43m            \u001b[49m\u001b[38;5;124;43m\"\u001b[39;49m\u001b[38;5;124;43mtop_k\u001b[39;49m\u001b[38;5;124;43m\"\u001b[39;49m\u001b[43m:\u001b[49m\u001b[43m \u001b[49m\u001b[43mtop_k\u001b[49m\u001b[43m,\u001b[49m\n\u001b[1;32m   1016\u001b[0m \u001b[43m            \u001b[49m\u001b[38;5;124;43m\"\u001b[39;49m\u001b[38;5;124;43mtop_p\u001b[39;49m\u001b[38;5;124;43m\"\u001b[39;49m\u001b[43m:\u001b[49m\u001b[43m \u001b[49m\u001b[43mtop_p\u001b[49m\u001b[43m,\u001b[49m\n\u001b[1;32m   1017\u001b[0m \u001b[43m        \u001b[49m\u001b[43m}\u001b[49m\u001b[43m,\u001b[49m\n\u001b[1;32m   1018\u001b[0m \u001b[43m        \u001b[49m\u001b[43mmessage_create_params\u001b[49m\u001b[38;5;241;43m.\u001b[39;49m\u001b[43mMessageCreateParamsStreaming\u001b[49m\n\u001b[1;32m   1019\u001b[0m \u001b[43m        \u001b[49m\u001b[38;5;28;43;01mif\u001b[39;49;00m\u001b[43m \u001b[49m\u001b[43mstream\u001b[49m\n\u001b[1;32m   1020\u001b[0m \u001b[43m        \u001b[49m\u001b[38;5;28;43;01melse\u001b[39;49;00m\u001b[43m \u001b[49m\u001b[43mmessage_create_params\u001b[49m\u001b[38;5;241;43m.\u001b[39;49m\u001b[43mMessageCreateParamsNonStreaming\u001b[49m\u001b[43m,\u001b[49m\n\u001b[1;32m   1021\u001b[0m \u001b[43m    \u001b[49m\u001b[43m)\u001b[49m\u001b[43m,\u001b[49m\n\u001b[1;32m   1022\u001b[0m \u001b[43m    \u001b[49m\u001b[43moptions\u001b[49m\u001b[38;5;241;43m=\u001b[39;49m\u001b[43mmake_request_options\u001b[49m\u001b[43m(\u001b[49m\n\u001b[1;32m   1023\u001b[0m \u001b[43m        \u001b[49m\u001b[43mextra_headers\u001b[49m\u001b[38;5;241;43m=\u001b[39;49m\u001b[43mextra_headers\u001b[49m\u001b[43m,\u001b[49m\u001b[43m \u001b[49m\u001b[43mextra_query\u001b[49m\u001b[38;5;241;43m=\u001b[39;49m\u001b[43mextra_query\u001b[49m\u001b[43m,\u001b[49m\u001b[43m \u001b[49m\u001b[43mextra_body\u001b[49m\u001b[38;5;241;43m=\u001b[39;49m\u001b[43mextra_body\u001b[49m\u001b[43m,\u001b[49m\u001b[43m \u001b[49m\u001b[43mtimeout\u001b[49m\u001b[38;5;241;43m=\u001b[39;49m\u001b[43mtimeout\u001b[49m\n\u001b[1;32m   1024\u001b[0m \u001b[43m    \u001b[49m\u001b[43m)\u001b[49m\u001b[43m,\u001b[49m\n\u001b[1;32m   1025\u001b[0m \u001b[43m    \u001b[49m\u001b[43mcast_to\u001b[49m\u001b[38;5;241;43m=\u001b[39;49m\u001b[43mMessage\u001b[49m\u001b[43m,\u001b[49m\n\u001b[1;32m   1026\u001b[0m \u001b[43m    \u001b[49m\u001b[43mstream\u001b[49m\u001b[38;5;241;43m=\u001b[39;49m\u001b[43mstream\u001b[49m\u001b[43m \u001b[49m\u001b[38;5;129;43;01mor\u001b[39;49;00m\u001b[43m \u001b[49m\u001b[38;5;28;43;01mFalse\u001b[39;49;00m\u001b[43m,\u001b[49m\n\u001b[1;32m   1027\u001b[0m \u001b[43m    \u001b[49m\u001b[43mstream_cls\u001b[49m\u001b[38;5;241;43m=\u001b[39;49m\u001b[43mStream\u001b[49m\u001b[43m[\u001b[49m\u001b[43mRawMessageStreamEvent\u001b[49m\u001b[43m]\u001b[49m\u001b[43m,\u001b[49m\n\u001b[1;32m   1028\u001b[0m \u001b[43m\u001b[49m\u001b[43m)\u001b[49m\n",
      "File \u001b[0;32m/mnt/local/zijian/Fast_Accurate_Code_Editing/.venv/lib/python3.10/site-packages/anthropic/_base_client.py:1324\u001b[0m, in \u001b[0;36mSyncAPIClient.post\u001b[0;34m(self, path, cast_to, body, options, files, stream, stream_cls)\u001b[0m\n\u001b[1;32m   1310\u001b[0m \u001b[38;5;28;01mdef\u001b[39;00m\u001b[38;5;250m \u001b[39m\u001b[38;5;21mpost\u001b[39m(\n\u001b[1;32m   1311\u001b[0m     \u001b[38;5;28mself\u001b[39m,\n\u001b[1;32m   1312\u001b[0m     path: \u001b[38;5;28mstr\u001b[39m,\n\u001b[0;32m   (...)\u001b[0m\n\u001b[1;32m   1319\u001b[0m     stream_cls: \u001b[38;5;28mtype\u001b[39m[_StreamT] \u001b[38;5;241m|\u001b[39m \u001b[38;5;28;01mNone\u001b[39;00m \u001b[38;5;241m=\u001b[39m \u001b[38;5;28;01mNone\u001b[39;00m,\n\u001b[1;32m   1320\u001b[0m ) \u001b[38;5;241m-\u001b[39m\u001b[38;5;241m>\u001b[39m ResponseT \u001b[38;5;241m|\u001b[39m _StreamT:\n\u001b[1;32m   1321\u001b[0m     opts \u001b[38;5;241m=\u001b[39m FinalRequestOptions\u001b[38;5;241m.\u001b[39mconstruct(\n\u001b[1;32m   1322\u001b[0m         method\u001b[38;5;241m=\u001b[39m\u001b[38;5;124m\"\u001b[39m\u001b[38;5;124mpost\u001b[39m\u001b[38;5;124m\"\u001b[39m, url\u001b[38;5;241m=\u001b[39mpath, json_data\u001b[38;5;241m=\u001b[39mbody, files\u001b[38;5;241m=\u001b[39mto_httpx_files(files), \u001b[38;5;241m*\u001b[39m\u001b[38;5;241m*\u001b[39moptions\n\u001b[1;32m   1323\u001b[0m     )\n\u001b[0;32m-> 1324\u001b[0m     \u001b[38;5;28;01mreturn\u001b[39;00m cast(ResponseT, \u001b[38;5;28;43mself\u001b[39;49m\u001b[38;5;241;43m.\u001b[39;49m\u001b[43mrequest\u001b[49m\u001b[43m(\u001b[49m\u001b[43mcast_to\u001b[49m\u001b[43m,\u001b[49m\u001b[43m \u001b[49m\u001b[43mopts\u001b[49m\u001b[43m,\u001b[49m\u001b[43m \u001b[49m\u001b[43mstream\u001b[49m\u001b[38;5;241;43m=\u001b[39;49m\u001b[43mstream\u001b[49m\u001b[43m,\u001b[49m\u001b[43m \u001b[49m\u001b[43mstream_cls\u001b[49m\u001b[38;5;241;43m=\u001b[39;49m\u001b[43mstream_cls\u001b[49m\u001b[43m)\u001b[49m)\n",
      "File \u001b[0;32m/mnt/local/zijian/Fast_Accurate_Code_Editing/.venv/lib/python3.10/site-packages/anthropic/_base_client.py:1112\u001b[0m, in \u001b[0;36mSyncAPIClient.request\u001b[0;34m(self, cast_to, options, stream, stream_cls)\u001b[0m\n\u001b[1;32m   1109\u001b[0m             err\u001b[38;5;241m.\u001b[39mresponse\u001b[38;5;241m.\u001b[39mread()\n\u001b[1;32m   1111\u001b[0m         log\u001b[38;5;241m.\u001b[39mdebug(\u001b[38;5;124m\"\u001b[39m\u001b[38;5;124mRe-raising status error\u001b[39m\u001b[38;5;124m\"\u001b[39m)\n\u001b[0;32m-> 1112\u001b[0m         \u001b[38;5;28;01mraise\u001b[39;00m \u001b[38;5;28mself\u001b[39m\u001b[38;5;241m.\u001b[39m_make_status_error_from_response(err\u001b[38;5;241m.\u001b[39mresponse) \u001b[38;5;28;01mfrom\u001b[39;00m\u001b[38;5;250m \u001b[39m\u001b[38;5;28;01mNone\u001b[39;00m\n\u001b[1;32m   1114\u001b[0m     \u001b[38;5;28;01mbreak\u001b[39;00m\n\u001b[1;32m   1116\u001b[0m \u001b[38;5;28;01massert\u001b[39;00m response \u001b[38;5;129;01mis\u001b[39;00m \u001b[38;5;129;01mnot\u001b[39;00m \u001b[38;5;28;01mNone\u001b[39;00m, \u001b[38;5;124m\"\u001b[39m\u001b[38;5;124mcould not resolve response (should never happen)\u001b[39m\u001b[38;5;124m\"\u001b[39m\n",
      "\u001b[0;31mBadRequestError\u001b[0m: Error code: 400 - {'type': 'error', 'error': {'type': 'invalid_request_error', 'message': 'Your credit balance is too low to access the Anthropic API. Please go to Plans & Billing to upgrade or purchase credits.'}, 'request_id': 'req_011CSKzocQEPWHiauhC7GoV5'}"
     ]
    }
   ],
   "source": [
    "import os\n",
    "\n",
    "import anthropic\n",
    "from dotenv import load_dotenv\n",
    "\n",
    "load_dotenv()\n",
    "\n",
    "anthropic_api_key = os.getenv(\"ANTHROPIC_API_KEY\", None)\n",
    "\n",
    "claude_client = anthropic.Anthropic(api_key=anthropic_api_key)\n",
    "\n",
    "response = claude_client.messages.create(\n",
    "    model=\"claude-sonnet-4-0\",\n",
    "    max_tokens=8192,\n",
    "    messages=[{\"role\": \"user\", \"content\": \"who are you?\"}],\n",
    ")\n",
    "\n",
    "print(response.content)"
   ]
  },
  {
   "cell_type": "markdown",
   "id": "992c611a",
   "metadata": {},
   "source": [
    "### Qwen3-4B"
   ]
  },
  {
   "cell_type": "code",
   "execution_count": 7,
   "id": "443a2f2e",
   "metadata": {},
   "outputs": [
    {
     "name": "stdout",
     "output_type": "stream",
     "text": [
      "True\n",
      "<#\n",
      ".SYNOPSIS\n",
      "Entry point script for installing native tools\n",
      "\n",
      ".DESCRIPTION\n",
      "Reads $RepoRoot\\\\global.json file to determine native assets to install\n",
      "and executes installers for those tools\n",
      "\n",
      ".PARAMETER BaseUri\n",
      "Base file directory or Url from which to acquire tool archives\n",
      "\n",
      ".PARAMETER InstallDirectory\n",
      "Directory to install native toolset.  This is a command-line override for the default\n",
      "Install directory precedence order:\n",
      "- InstallDirectory command-line override\n",
      "- NETCOREENG_INSTALL_DIRECTORY environment variable\n",
      "- (default) %USERPROFILE%/.netcoreeng/native\n",
      "\n",
      ".PARAMETER Clean\n",
      "Switch specifying to not install anything, but cleanup native asset folders\n",
      "\n",
      ".PARAMETER Force\n",
      "Clean and then install tools\n",
      "\n",
      ".PARAMETER DownloadRetries\n",
      "Total number of retry attempts\n",
      "\n",
      ".PARAMETER RetryWaitTimeInSeconds\n",
      "Wait time between retry attempts in seconds\n",
      "\n",
      ".PARAMETER GlobalJsonFile\n",
      "File path to global.json file\n",
      "\n",
      ".NOTES\n",
      "#>\n",
      "[CmdletBinding(PositionalBinding=$false)]\n",
      "Param (\n",
      "  [string] $BaseUri = \"https://netcorenativeassets.blob.core.windows.net/resource-packages/external\",\n",
      "  [string] $InstallDirectory,\n",
      "  [switch] $Clean = $False,\n",
      "  [switch] $Force = $False,\n",
      "  [int] $DownloadRetries = 5,\n",
      "  [int] $RetryWaitTimeInSeconds = 30,\n",
      "  [string] $GlobalJsonFile\n",
      ")\n",
      "\n",
      "if (!$GlobalJsonFile) {\n",
      "  $GlobalJsonFile = Join-Path (Get-Item $PSScriptRoot).Parent.Parent.FullName \"global.json\"\n",
      "}\n",
      "\n",
      "Set-StrictMode -version 2.0\n",
      "$ErrorActionPreference=\"Stop\"\n",
      "\n",
      "Import-Module -Name (Join-Path $PSScriptRoot \"native\\\\CommonLibrary.psm1\")\n",
      "\n",
      "try {\n",
      "  # Define verbose switch if undefined\n",
      "  $Verbose = $VerbosePreference -Eq \"Continue\"\n",
      "\n",
      "  $EngCommonBaseDir = Join-Path $PSScriptRoot \"native\\\\\"\n",
      "  $NativeBaseDir = $InstallDirectory\n",
      "  if (!$NativeBaseDir) {\n",
      "    $NativeBaseDir = CommonLibrary\\\\Get-NativeInstallDirectory\n",
      "  }\n",
      "  $Env:CommonLibrary_NativeInstallDir = $NativeBaseDir\n",
      "  $InstallBin = Join-Path $NativeBaseDir \"bin\"\n",
      "  $InstallerPath = Join-Path $EngCommonBaseDir \"install-tool.ps1\"\n",
      "\n",
      "  # Process tools list\n",
      "  Write-Host \"Processing $GlobalJsonFile\"\n",
      "  If (-Not (Test-Path $GlobalJsonFile)) {\n",
      "    Write-Host \"Unable to find '$GlobalJsonFile'\"\n",
      "    exit 0\n",
      "  }\n",
      "  $NativeTools = Get-Content($GlobalJsonFile) -Raw |\n",
      "                    ConvertFrom-Json |\n",
      "                    Select-Object -Expand \"native-tools\" -ErrorAction SilentlyContinue\n",
      "  if ($NativeTools) {\n",
      "    $NativeTools.PSObject.Properties | ForEach-Object {\n",
      "      $ToolName = $_.Name\n",
      "      $ToolVersion = $_.Value\n",
      "      $LocalInstallerArguments =  @{ ToolName = \"$ToolName\" }\n",
      "      $LocalInstallerArguments += @{ InstallPath = \"$InstallBin\" }\n",
      "      $LocalInstallerArguments += @{ BaseUri = \"$BaseUri\" }\n",
      "      $LocalInstallerArguments += @{ CommonLibraryDirectory = \"$EngCommonBaseDir\" }\n",
      "      $LocalInstallerArguments += @{ Version = \"$ToolVersion\" }\n",
      "      $LocalInstallerArguments += @{ DownloadRetries = $DownloadRetries }\n",
      "      $LocalInstallerArguments += @{ RetryWaitTimeInSeconds = $RetryWaitTimeInSeconds }\n",
      "\n",
      "      if ($Verbose) {\n",
      "        $LocalInstallerArguments += @{ Verbose = $True }\n",
      "      }\n",
      "      if (Get-Variable 'Force' -ErrorAction 'SilentlyContinue') {\n",
      "        if($Force) {\n",
      "          $LocalInstallerArguments += @{ Force = $True }\n",
      "        }\n",
      "      }\n",
      "      if ($Clean) {\n",
      "        $LocalInstallerArguments += @{ Clean = $True }\n",
      "      }\n",
      "\n",
      "      Write-Verbose \"Installing $ToolName version $ToolVersion\"\n",
      "      Write-Verbose \"Executing '$InstallerPath $LocalInstallerArguments'\"\n",
      "      & $InstallerPath @LocalInstallerArguments\n",
      "      if ($LASTEXITCODE -Ne \"0\") {\n",
      "        $errMsg = \"$ToolName installation failed\"\n",
      "        if ((Get-Variable 'DoNotAbortNativeToolsInstallationOnFailure' -ErrorAction 'SilentlyContinue') -and $DoNotAbortNativeToolsInstallationOnFailure) {\n",
      "            Write-Warning $errMsg\n",
      "            $toolInstallationFailure = $true\n",
      "        } else {\n",
      "            Write-Error $errMsg\n",
      "            exit 1\n",
      "        }\n",
      "      }\n",
      "    }\n",
      "\n",
      "    if ((Get-Variable 'toolInstallationFailure' -ErrorAction 'SilentlyContinue') -and $toolInstallationFailure) {\n",
      "        exit 1\n",
      "    }\n",
      "  }\n",
      "  else {\n",
      "    Write-Host \"No native tools defined in global.json\"\n",
      "    exit 0\n",
      "  }\n",
      "\n",
      "  if ($Clean) {\n",
      "    exit 0\n",
      "  }\n",
      "  if (Test-Path $InstallBin) {\n",
      "    Write-Host \"Native tools are available from\" (Convert-Path -Path $InstallBin)\n",
      "    Write-Host \"##vso[task.prependpath]$(Convert-Path -Path $InstallBin)\"\n",
      "  }\n",
      "  else {\n",
      "    Write-Error \"Native tools install directory does not exist, installation failed\"\n",
      "    exit 1\n",
      "  }\n",
      "  exit 0\n",
      "}\n",
      "catch {\n",
      "  Write-Host $_\n",
      "  Write-Host $_.Exception\n",
      "  exit 1\n",
      "}\n",
      "\n"
     ]
    }
   ],
   "source": [
    "import json\n",
    "\n",
    "from utils import apply_diff\n",
    "\n",
    "with open(\"results/find_replace_gpt-5_results.jsonl\") as f:\n",
    "    results = [json.loads(line) for line in f]\n",
    "\n",
    "results[0]\n",
    "\n",
    "\n",
    "success, modified_code = apply_diff(results[0][\"original_code\"], results[0][\"model_response\"])\n",
    "\n",
    "print(success)\n",
    "print(modified_code)"
   ]
  },
  {
   "cell_type": "code",
   "execution_count": null,
   "id": "2ea21382",
   "metadata": {},
   "outputs": [],
   "source": []
  }
 ],
 "metadata": {
  "kernelspec": {
   "display_name": ".venv",
   "language": "python",
   "name": "python3"
  },
  "language_info": {
   "codemirror_mode": {
    "name": "ipython",
    "version": 3
   },
   "file_extension": ".py",
   "mimetype": "text/x-python",
   "name": "python",
   "nbconvert_exporter": "python",
   "pygments_lexer": "ipython3",
   "version": "3.10.17"
  }
 },
 "nbformat": 4,
 "nbformat_minor": 5
}
