{
 "cells": [
  {
   "cell_type": "markdown",
   "id": "cbbc47e1",
   "metadata": {},
   "source": [
    "## Analyze result"
   ]
  },
  {
   "cell_type": "code",
   "execution_count": null,
   "id": "e99f2e41",
   "metadata": {},
   "outputs": [
    {
     "name": "stdout",
     "output_type": "stream",
     "text": [
      "\n",
      "============================================================\n",
      "Example ID: 260 | Language: python\n",
      "============================================================\n",
      "Exact Match: ❌ NO\n",
      "\n",
      "====================================================================================================================================================================================================================================================================\n",
      "SIDE-BY-SIDE COMPARISON\n",
      "====================================================================================================================================================================================================================================================================\n",
      "Ground Truth                                                                                                                | Model Output                                                                                                               \n",
      "--------------------------------------------------------------------------------------------------------------------------- | ---------------------------------------------------------------------------------------------------------------------------\n",
      "from __future__ import annotations                                                                                          | from __future__ import annotations                                                                                         \n",
      "                                                                                                                            |                                                                                                                            \n",
      "from functools import wraps                                                                                                 | from functools import wraps                                                                                                \n",
      "... (identical lines) ...                                                                                                   | ... (identical lines) ...                                                                                                  \n",
      "\n",
      "--- DELETED from Ground Truth ---\n",
      "-         # Always validate the fill_value before performing operations                                                     |                                                                                                                            \n",
      "-         self._validate_setitem_value(value)                                                                               |                                                                                                                            \n",
      "-                                                                                                                           |                                                                                                                            \n",
      "        if mask.any():                                                                                                      |         if mask.any():                                                                                                     \n",
      "            # fill with value                                                                                               |             # fill with value                                                                                              \n",
      "            if copy:                                                                                                        |             if copy:                                                                                                       \n",
      "... (identical lines) ...                                                                                                   | ... (identical lines) ...                                                                                                  \n",
      "\n",
      "+++ ADDED in Model Output +++\n",
      "                                                                                                                            | +             # Validate the fill value even if there is nothing to fill                                                   \n",
      "                                                                                                                            | +             self._validate_setitem_value(value)                                                                          \n",
      "                                                                                                                            | +                                                                                                                          \n",
      "            if not copy:                                                                                                    |             if not copy:                                                                                                   \n",
      "                new_values = self[:]                                                                                        |                 new_values = self[:]                                                                                       \n",
      "            else:                                                                                                           |             else:                                                                                                          \n",
      "... (identical lines) ...                                                                                                   | ... (identical lines) ...                                                                                                  \n"
     ]
    }
   ],
   "source": [
    "import os\n",
    "\n",
    "from utils import apply_diff, display_side_by_side_diff, extract_code_from_response, load_from_jsonl\n",
    "\n",
    "\n",
    "def analyze_result(example, mode):\n",
    "    \"\"\"\n",
    "    Analyze a single result example and print human-readable differences.\n",
    "\n",
    "    Args:\n",
    "        example: One result example\n",
    "        mode: Either \"find_replace\" or \"fully_rewrite\"\n",
    "    \"\"\"\n",
    "    print(f\"\\n{'=' * 60}\")\n",
    "    print(f\"Example ID: {example.get('id', 'unknown')} | Language: {example.get('language', 'unknown')}\")\n",
    "    print(f\"{'=' * 60}\")\n",
    "\n",
    "    ground_truth = example[\"ground_truth\"]\n",
    "    model_response = example[\"model_response\"]\n",
    "\n",
    "    if mode == \"find_replace\":\n",
    "        original_code = example[\"original_code\"]\n",
    "        success, model_code = apply_diff(original_code, model_response)\n",
    "\n",
    "        if not success:\n",
    "            print(\"❌ DIFF APPLICATION FAILED\")\n",
    "            return\n",
    "\n",
    "        print(\"✅ Diff applied successfully\")\n",
    "    else:  # fully_rewrite\n",
    "        model_code = extract_code_from_response(model_response)\n",
    "\n",
    "    # Check if they match\n",
    "    exact_match = model_code == ground_truth\n",
    "    print(f\"Exact Match: {'✅ YES' if exact_match else '❌ NO'}\")\n",
    "\n",
    "    if exact_match:\n",
    "        print(\"Perfect match! No differences to show.\")\n",
    "        return\n",
    "\n",
    "    # Show the differences\n",
    "    display_side_by_side_diff(ground_truth, model_code)\n",
    "\n",
    "\n",
    "# Example usage:\n",
    "if __name__ == \"__main__\":\n",
    "    # Load results\n",
    "    res_file_name = \"fully_rewrite_gpt-5_results.jsonl\"\n",
    "    mode = \"find_replace\" if \"find_replace\" in res_file_name else \"fully_rewrite\"\n",
    "    file_path = os.path.join(\"./results\", res_file_name)\n",
    "    results = load_from_jsonl(file_path)\n",
    "\n",
    "    def find_random_failed_case():\n",
    "        import random\n",
    "\n",
    "        random_id = random.randint(0, len(results) - 1)\n",
    "        while results[random_id][\"label\"]:\n",
    "            random_id = random.randint(0, len(results) - 1)\n",
    "        return random_id\n",
    "\n",
    "    random_id = find_random_failed_case()\n",
    "    analyze_result(results[random_id], mode)"
   ]
  },
  {
   "cell_type": "markdown",
   "id": "098d9608",
   "metadata": {},
   "source": [
    "## Analyze checkpoint"
   ]
  },
  {
   "cell_type": "code",
   "execution_count": null,
   "id": "5b9f4c0d",
   "metadata": {},
   "outputs": [],
   "source": []
  }
 ],
 "metadata": {
  "kernelspec": {
   "display_name": ".venv",
   "language": "python",
   "name": "python3"
  },
  "language_info": {
   "codemirror_mode": {
    "name": "ipython",
    "version": 3
   },
   "file_extension": ".py",
   "mimetype": "text/x-python",
   "name": "python",
   "nbconvert_exporter": "python",
   "pygments_lexer": "ipython3",
   "version": "3.10.18"
  }
 },
 "nbformat": 4,
 "nbformat_minor": 5
}
